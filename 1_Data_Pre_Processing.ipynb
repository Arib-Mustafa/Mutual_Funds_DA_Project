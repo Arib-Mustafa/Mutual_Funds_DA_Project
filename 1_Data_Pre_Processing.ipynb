{
 "cells": [
  {
   "cell_type": "code",
   "execution_count": 1,
   "metadata": {},
   "outputs": [],
   "source": [
    "#Import Libraries\n",
    "import pandas as pd\n",
    "import numpy as np\n",
    "# Loading Data\n",
    "df = pd.read_csv('/Users/AribM/Desktop/Mutual Funds India-Data Analysis/SourceData.csv')\n",
    "# Filtering and Cleaning Data\n",
    "df['Date'] = pd.to_datetime(df['Date'],dayfirst=True)\n",
    "df=df[df['Date'] >= '2018-07-23'] # Analysing Data for 5 year period, i.e, 2018-07-23 to 2023-07-23"
   ]
  },
  {
   "cell_type": "code",
   "execution_count": 2,
   "metadata": {},
   "outputs": [],
   "source": [
    "df['min_date'] = df.groupby(by='Scheme_Code')['Date'].transform('min') # Getting the earliest date of fund data\n",
    "df['max_date'] = df.groupby(by='Scheme_Code')['Date'].transform('max') # Getting the latest date of fund data"
   ]
  },
  {
   "cell_type": "code",
   "execution_count": 3,
   "metadata": {},
   "outputs": [],
   "source": [
    "df = df.sort_values(by=['Scheme_Code','Date']).reset_index(drop=True) # Sorting by Scheme_Code and Date"
   ]
  },
  {
   "cell_type": "code",
   "execution_count": 4,
   "metadata": {},
   "outputs": [],
   "source": [
    "df=df[df['max_date'] >= '2023-01-01'] #Removing Mutual Funds whose data has not been recieved after 2022\n",
    "df['no_of_days']=(df['max_date']-df['min_date']).dt.days # Calculating the number of days of data for the given fund\n",
    "df=df[df['no_of_days'] >= 365] # Filtering out MFs whose data is available for less than 1 year"
   ]
  },
  {
   "cell_type": "code",
   "execution_count": 5,
   "metadata": {},
   "outputs": [],
   "source": [
    "df = df[df['NAV'] != 0] # Removing 0 NAV values\n",
    "df.dropna(subset='NAV',inplace=True) # Removing NaN NAV values for consistency and precision "
   ]
  },
  {
   "cell_type": "code",
   "execution_count": 6,
   "metadata": {},
   "outputs": [],
   "source": [
    "df['returns'] = df.groupby('Scheme_Code')['NAV'].pct_change() * 100  # Getting the daily returns of the Funds\n",
    "df['returns'] = df['returns'].fillna(0) # Filling NaN values in returns column with 0 \n",
    "df['std_dev'] = df.groupby('Scheme_Code')['returns'].transform('std') # Calculating fund wise Standard Deviation \n"
   ]
  },
  {
   "cell_type": "code",
   "execution_count": 7,
   "metadata": {},
   "outputs": [],
   "source": [
    "df['average_fund_return'] = df.groupby('Scheme_Code')['returns'].transform('mean') * 252 # Annualizing the fund returns"
   ]
  },
  {
   "cell_type": "code",
   "execution_count": 8,
   "metadata": {},
   "outputs": [],
   "source": [
    "# Computing Values for calculating total Active period between the analysis period\n",
    "df['scheme_iv'] = df.groupby('Scheme_Code')['NAV'].transform('first')\n",
    "df['scheme_fv'] = df.groupby('Scheme_Code')['NAV'].transform('last')\n",
    "df_active_years = df.groupby('Scheme_Code').agg(\n",
    "    scheme_min_date=('min_date', 'min'),\n",
    "    scheme_max_date=('max_date', 'max')\n",
    ").reset_index()\n",
    "\n",
    "df_active_years['active_years'] = (df_active_years['scheme_max_date'] - df_active_years['scheme_min_date']).dt.days / 365\n",
    "# Merge back with the original DataFrame\n",
    "df = pd.merge(df,df_active_years,on='Scheme_Code', how='left')\n",
    "df = df[(df['scheme_iv'] > 0) & (df['active_years'] > 0)] # Prevent division by 0\n",
    "df['CAGR'] = ((df['scheme_fv']/df['scheme_iv']) ** (1/df['active_years']) - 1 )* 100 # Calculating Fund wise CAGR"
   ]
  },
  {
   "cell_type": "code",
   "execution_count": 9,
   "metadata": {},
   "outputs": [],
   "source": [
    "df.drop(['scheme_fv','scheme_iv'],axis=1,inplace=True) # Dropping final and initial NAV values of funds from main dataframe"
   ]
  },
  {
   "cell_type": "code",
   "execution_count": 13,
   "metadata": {},
   "outputs": [],
   "source": [
    "# Calculating Sortino Ratio\n",
    "\n",
    "# assuming the risk free rate of 4%\n",
    "risk_free_rate = 4\n",
    "\n",
    "def calculate_sortino(group):\n",
    "    scheme_avg_return = group['returns'].mean() * 252 # Annualizing returns \n",
    "    downside_returns = group[group['returns'] < risk_free_rate]['returns'] - risk_free_rate # computing downside returns\n",
    "    downside_dev = downside_returns.std() * np.sqrt(252) # Calculating downside deviation of funds and annualizing \n",
    "\n",
    "    if downside_dev == 0 or np.isnan(downside_dev): # if no negative values then return NaN\n",
    "        return np.nan\n",
    "    \n",
    "    return (scheme_avg_return - risk_free_rate) / downside_dev # Sortino formula\n",
    "\n",
    "df_sortino = df.groupby('Scheme_Code',group_keys=False).apply(calculate_sortino,include_groups=False).reset_index(name=\"Sortino_Ratio\")\n",
    "# Created a dataframe containing sortino values "
   ]
  },
  {
   "cell_type": "code",
   "execution_count": 14,
   "metadata": {},
   "outputs": [],
   "source": [
    "df = df.merge(df_sortino,on = 'Scheme_Code',how='left') # Merging sortino df to main df"
   ]
  },
  {
   "cell_type": "code",
   "execution_count": 15,
   "metadata": {},
   "outputs": [],
   "source": [
    "# Calculating Sharpe Ratio\n",
    "rfr = 0.04 # assuming 4% annual risk free rate\n",
    "df_sharpe = df.groupby('Scheme_Code')['returns'].agg(['mean','std']).reset_index()\n",
    "df_sharpe['mean_annual'] = df_sharpe['mean'] * 252\n",
    "df_sharpe['std_annual'] = df_sharpe['std'] * (252 ** 0.5)\n",
    "\n",
    "df_sharpe['Sharpe_annual'] = (df_sharpe['mean_annual'] - rfr) / df_sharpe['std_annual'] # Annualizing Sharpe values\n",
    "df_sharpe.fillna({'Sharpe_annual': 0}, inplace=True)  # replacing Nan values by 0\n",
    "df = df.merge(df_sharpe[['Scheme_Code','Sharpe_annual']],on='Scheme_Code',how='left') # merge back to main df"
   ]
  },
  {
   "cell_type": "code",
   "execution_count": 16,
   "metadata": {},
   "outputs": [],
   "source": [
    "# Creating a shorter dataframe with relevant data and all calculated fields\n",
    "df_processed = df.drop(['scheme_min_date','scheme_max_date','min_date','max_date','Date','NAV','no_of_days','returns','average_fund_return'],axis = 1).copy()\n",
    "df_processed['active_years'] = df_processed['active_years'].round()\n",
    "cols_to_round = ['std_dev','CAGR']\n",
    "df_processed[cols_to_round] = df_processed[cols_to_round].round(3) # rounding off column values upto 3 decimals\n",
    "df_processed.drop_duplicates(subset='Scheme_Code',inplace=True) # Only 1 row per scheme\n",
    "df_processed = df_processed.reset_index()\n",
    "df_processed.drop(columns=['index'],inplace=True)\n",
    "df_processed.index.name = \"S.No\" # Renaming Index Name"
   ]
  },
  {
   "cell_type": "code",
   "execution_count": 17,
   "metadata": {},
   "outputs": [
    {
     "name": "stdout",
     "output_type": "stream",
     "text": [
      "                             Fund_House          Scheme_Type  \\\n",
      "S.No                                                           \n",
      "0     Aditya Birla Sun Life Mutual Fund   Open Ended Schemes   \n",
      "1     Aditya Birla Sun Life Mutual Fund   Open Ended Schemes   \n",
      "2     Aditya Birla Sun Life Mutual Fund   Open Ended Schemes   \n",
      "3     Aditya Birla Sun Life Mutual Fund   Open Ended Schemes   \n",
      "4     Aditya Birla Sun Life Mutual Fund  360 ONE Mutual Fund   \n",
      "...                                 ...                  ...   \n",
      "6198  Aditya Birla Sun Life Mutual Fund   Open Ended Schemes   \n",
      "6199            Mirae Asset Mutual Fund   Open Ended Schemes   \n",
      "6200            Mirae Asset Mutual Fund   Open Ended Schemes   \n",
      "6201            Mirae Asset Mutual Fund   Open Ended Schemes   \n",
      "6202            Mirae Asset Mutual Fund   Open Ended Schemes   \n",
      "\n",
      "                                 Scheme_Category  Scheme_Code  \\\n",
      "S.No                                                            \n",
      "0           Equity Scheme - Large & Mid Cap Fund       100033   \n",
      "1           Equity Scheme - Large & Mid Cap Fund       100034   \n",
      "2     Debt Scheme - Medium to Long Duration Fund       100037   \n",
      "3     Debt Scheme - Medium to Long Duration Fund       100038   \n",
      "4             Formerly Known as IIFL Mutual Fund       100041   \n",
      "...                                          ...          ...   \n",
      "6198                  Other Scheme - Index Funds       150357   \n",
      "6199                  Other Scheme - Index Funds       150358   \n",
      "6200                  Other Scheme - Index Funds       150359   \n",
      "6201                  Other Scheme - Index Funds       150360   \n",
      "6202                  Other Scheme - Index Funds       150361   \n",
      "\n",
      "                                            Scheme_Name  std_dev  \\\n",
      "S.No                                                               \n",
      "0     Aditya Birla Sun Life Equity Advantage Fund - ...    1.214   \n",
      "1     Aditya Birla Sun Life Equity Advantage Fund -R...    1.276   \n",
      "2     Aditya Birla Sun Life Income Fund - Regular - ...    0.271   \n",
      "3     Aditya Birla Sun Life Income Fund - Growth - R...    0.201   \n",
      "4     Aditya Birla Sun Life Liquid Fund -Institution...    0.007   \n",
      "...                                                 ...      ...   \n",
      "6198  Aditya Birla Sun Life Crisil IBX 60:40 SDL+AAA...    0.094   \n",
      "6199  Mirae Asset Nifty SDL Jun 2027 Index Fund -Dir...    0.155   \n",
      "6200  Mirae Asset Nifty SDL Jun 2027 Index Fund - Di...    0.155   \n",
      "6201  Mirae Asset Nifty SDL Jun 2027 Index Fund - Re...    0.155   \n",
      "6202  Mirae Asset Nifty SDL Jun 2027 Index Fund - Re...    0.155   \n",
      "\n",
      "      active_years   CAGR  Sortino_Ratio  Sharpe_annual  \n",
      "S.No                                                     \n",
      "0              5.0  9.565       0.393053       0.581007  \n",
      "1              5.0  2.910       0.052588       0.245988  \n",
      "2              5.0  1.606      -0.522761       0.397724  \n",
      "3              5.0  7.553       1.135192       2.373578  \n",
      "4              5.0  0.000     -35.712509      -0.356571  \n",
      "...            ...    ...            ...            ...  \n",
      "6198           1.0  4.213       0.182590       2.841335  \n",
      "6199           1.0  4.507       0.235897       1.842513  \n",
      "6200           1.0  4.508       0.236503       1.843126  \n",
      "6201           1.0  4.318       0.160236       1.766963  \n",
      "6202           1.0  4.323       0.162071       1.768992  \n",
      "\n",
      "[6203 rows x 10 columns]\n"
     ]
    }
   ],
   "source": [
    "# Dropping Nan values if any:\n",
    "df_processed.dropna(subset='CAGR',inplace=True)\n",
    "print(df_processed) # printing to check the new dataframe"
   ]
  },
  {
   "cell_type": "code",
   "execution_count": 18,
   "metadata": {},
   "outputs": [],
   "source": [
    "with pd.ExcelWriter(\"processed_data.xlsx\", engine=\"openpyxl\") as writer:\n",
    "    df_processed.to_excel(writer, sheet_name=\"Processed_Data\", index=False)"
   ]
  },
  {
   "cell_type": "code",
   "execution_count": 19,
   "metadata": {},
   "outputs": [],
   "source": [
    "df.drop(['scheme_min_date','scheme_max_date'],axis=1,inplace=True)\n",
    "df.fillna({'returns':0},inplace=True)\n",
    "df.to_csv(\"detailed_data.csv\",index=False)"
   ]
  }
 ],
 "metadata": {
  "kernelspec": {
   "display_name": "Python 3",
   "language": "python",
   "name": "python3"
  },
  "language_info": {
   "codemirror_mode": {
    "name": "ipython",
    "version": 3
   },
   "file_extension": ".py",
   "mimetype": "text/x-python",
   "name": "python",
   "nbconvert_exporter": "python",
   "pygments_lexer": "ipython3",
   "version": "3.11.10"
  }
 },
 "nbformat": 4,
 "nbformat_minor": 2
}
