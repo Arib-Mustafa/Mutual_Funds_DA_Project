{
 "cells": [
  {
   "cell_type": "code",
   "execution_count": 13,
   "metadata": {},
   "outputs": [],
   "source": [
    "#Import Libraries\n",
    "import pandas as pd\n",
    "import numpy as np\n",
    "# Loading Data\n",
    "df = pd.read_csv('/Users/AribM/Desktop/MF DA/Mutual_Funds.csv')\n",
    "# Filtering and Cleaning Data\n",
    "df['Date'] = pd.to_datetime(df['Date'],dayfirst=True)\n",
    "df=df[df['Date'] >= '2018-07-23'] # Analysing Data for 5 year period, i.e, 2018-07-23 to 2023-07-23"
   ]
  },
  {
   "cell_type": "code",
   "execution_count": 14,
   "metadata": {},
   "outputs": [],
   "source": [
    "df['min_date'] = df.groupby(by='Scheme_Code')['Date'].transform('min') # Getting the earliest date of fund data\n",
    "df['max_date'] = df.groupby(by='Scheme_Code')['Date'].transform('max') # Getting the latest date of fund data"
   ]
  },
  {
   "cell_type": "code",
   "execution_count": 15,
   "metadata": {},
   "outputs": [],
   "source": [
    "df = df.sort_values(by=['Scheme_Code','Date']).reset_index(drop=True) # Sorting by Scheme_Code and Date"
   ]
  },
  {
   "cell_type": "code",
   "execution_count": 16,
   "metadata": {},
   "outputs": [],
   "source": [
    "df=df[df['max_date'] >= '2023-01-01'] #Removing Mutual Funds whose data has not been recieved after 2022\n",
    "df['no_of_days']=(df['max_date']-df['min_date']).dt.days # Calculating the number of days of data for the given fund\n",
    "df=df[df['no_of_days'] >= 365] # Filtering out MFs whose data is available for less than 1 year"
   ]
  },
  {
   "cell_type": "code",
   "execution_count": 17,
   "metadata": {},
   "outputs": [],
   "source": [
    "df = df[df['NAV'] != 0] # Removing 0 NAV values\n",
    "df.dropna(subset='NAV',inplace=True) # Removing NaN NAV values for consistency and precision "
   ]
  },
  {
   "cell_type": "code",
   "execution_count": 18,
   "metadata": {},
   "outputs": [],
   "source": [
    "df['returns'] = df.groupby('Scheme_Code')['NAV'].pct_change() * 100  # Getting the daily returns of the Funds\n",
    "df['returns'] = df['returns'].fillna(0) # Filling NaN values in returns column with 0 \n",
    "df['std_dev'] = df.groupby('Scheme_Code')['returns'].transform('std') # Calculating fund wise Standard Deviation \n"
   ]
  },
  {
   "cell_type": "code",
   "execution_count": 19,
   "metadata": {},
   "outputs": [],
   "source": [
    "df['average_fund_return'] = df.groupby('Scheme_Code')['returns'].transform('mean') * 252 # Annualizing the fund returns"
   ]
  },
  {
   "cell_type": "code",
   "execution_count": 20,
   "metadata": {},
   "outputs": [],
   "source": [
    "# Computing Values for calculating total Active period between the analysis period\n",
    "df['scheme_iv'] = df.groupby('Scheme_Code')['NAV'].transform('first')\n",
    "df['scheme_fv'] = df.groupby('Scheme_Code')['NAV'].transform('last')\n",
    "df_active_years = df.groupby('Scheme_Code').agg(\n",
    "    scheme_min_date=('min_date', 'min'),\n",
    "    scheme_max_date=('max_date', 'max')\n",
    ").reset_index()\n",
    "\n",
    "df_active_years['active_years'] = (df_active_years['scheme_max_date'] - df_active_years['scheme_min_date']).dt.days / 365\n",
    "# Merge back with the original DataFrame\n",
    "df = pd.merge(df,df_active_years,on='Scheme_Code', how='left')\n",
    "df = df[(df['scheme_iv'] > 0) & (df['active_years'] > 0)] # Prevent division by 0\n",
    "df['CAGR'] = ((df['scheme_fv']/df['scheme_iv']) ** (1/df['active_years']) - 1 )* 100 # Calculating Fund wise CAGR"
   ]
  },
  {
   "cell_type": "code",
   "execution_count": 21,
   "metadata": {},
   "outputs": [],
   "source": [
    "df.drop(['scheme_fv','scheme_iv'],axis=1,inplace=True) # Dropping final and initial NAV values of funds from main dataframe"
   ]
  },
  {
   "cell_type": "code",
   "execution_count": 22,
   "metadata": {},
   "outputs": [],
   "source": [
    "# Beta Calculation\n",
    "# Since Data does not have Beta Values nor benchmark details, we will have to estimate beta for different types of schemes\n",
    "# Using std dev method of scheme and market for equity schemes and CAGR approximation for other schemes since standard deviation data might be unreliable\n",
    "\n",
    "market_std = 0.18 # Market standard deviation for equity schemes\n",
    "market_cagr = 0.08 # Market CAGR\n",
    "r_f_r = 0.04 # risk free rate\n",
    "\n",
    "df['Scheme_Category'] = df['Scheme_Category'].astype(str)\n",
    "\n",
    "def compute_beta(row):\n",
    "     if \"Equity\" in row['Scheme_Category']:  \n",
    "        # Equity Schemes: Beta using Standard Deviation\n",
    "        return row['std_dev'] / market_std if row['std_dev'] > 0 else None\n",
    "     else:\n",
    "        # Non-Equity Schemes: Beta using CAGR approximation\n",
    "        return (row['CAGR'] - r_f_r) / (market_cagr - r_f_r) if row['CAGR'] > r_f_r else None\n",
    "     \n",
    "df['Estimated_Beta'] = df.apply(compute_beta,axis=1)\n",
    "df['Estimated_Beta'] = df['Estimated_Beta'].clip(-5, 5) # Unrealistic Beta Values rounded to prevent skewing of Beta values"
   ]
  },
  {
   "cell_type": "code",
   "execution_count": 23,
   "metadata": {},
   "outputs": [],
   "source": [
    "# assuming average daily market return of 8.0%\n",
    "# assuming Beta as 1 since we don't have actual values\n",
    "# assuming risk free rate from govt. bond yields of 4%\n",
    "# calculating alpha\n",
    "def alpha_values(row) -> float:\n",
    "    alpha_val = row['average_fund_return'] - (4 + (row['Estimated_Beta'] * (8 - 4)))\n",
    "    return alpha_val"
   ]
  },
  {
   "cell_type": "code",
   "execution_count": 24,
   "metadata": {},
   "outputs": [],
   "source": [
    "df['alpha'] = df.apply(alpha_values,axis=1)\n",
    "df['alpha'] = df['alpha'].clip(lower=-10, upper=10) # Clipping to avoid rare / unreasonable alpha values"
   ]
  },
  {
   "cell_type": "code",
   "execution_count": null,
   "metadata": {},
   "outputs": [],
   "source": [
    "# Calculating Sortino Ratio\n",
    "\n",
    "# assuming the risk free rate of 6%\n",
    "risk_free_rate = 6\n",
    "\n",
    "def calculate_sortino(group):\n",
    "    scheme_avg_return = group['returns'].mean() * 252 # Annualizing returns \n",
    "    downside_returns = group[group['returns'] < risk_free_rate]['returns'] - risk_free_rate # computing downside returns\n",
    "    downside_dev = downside_returns.std() * np.sqrt(252) # Calculating downside deviation of funds and annualizing \n",
    "\n",
    "    if downside_dev == 0 or np.isnan(downside_dev): # if no negative values then return NaN\n",
    "        return np.nan\n",
    "    \n",
    "    return (scheme_avg_return - risk_free_rate) / downside_dev # Sortino formula\n",
    "\n",
    "df_sortino = df.groupby('Scheme_Code').apply(calculate_sortino).reset_index(name=\"Sortino_Ratio\")\n",
    "# Created a dataframe containing sortino values "
   ]
  },
  {
   "cell_type": "code",
   "execution_count": 26,
   "metadata": {},
   "outputs": [],
   "source": [
    "df = df.merge(df_sortino,on = 'Scheme_Code',how='left') # Merging sortino df to main df"
   ]
  },
  {
   "cell_type": "code",
   "execution_count": 27,
   "metadata": {},
   "outputs": [],
   "source": [
    "# Calculating Sharpe Ratio\n",
    "rfr = 0.06 # assuming 6% annual risk free rate\n",
    "df_sharpe = df.groupby('Scheme_Code')['returns'].agg(['mean','std']).reset_index()\n",
    "df_sharpe['mean_annual'] = df_sharpe['mean'] * 252\n",
    "df_sharpe['std_annual'] = df_sharpe['std'] * (252 ** 0.5)\n",
    "\n",
    "df_sharpe['Sharpe_annual'] = (df_sharpe['mean_annual'] - rfr) / df_sharpe['std_annual'] # Annualizing Sharpe values\n",
    "df_sharpe.fillna({'Sharpe_annual': 0}, inplace=True)  # replacing Nan values by 0\n",
    "df = df.merge(df_sharpe[['Scheme_Code','Sharpe_annual']],on='Scheme_Code',how='left') # merge back to main df"
   ]
  },
  {
   "cell_type": "code",
   "execution_count": 28,
   "metadata": {},
   "outputs": [],
   "source": [
    "# Creating a shorter dataframe with relevant data and all calculated fields\n",
    "df_processed = df.drop(['scheme_min_date','scheme_max_date','min_date','max_date','Date','NAV','no_of_days','returns','average_fund_return'],axis = 1).copy()\n",
    "df_processed['active_years'] = df_processed['active_years'].round()\n",
    "cols_to_round = ['std_dev','alpha','CAGR']\n",
    "df_processed[cols_to_round] = df_processed[cols_to_round].round(3) # rounding off column values upto 3 decimals\n",
    "df_processed.drop_duplicates(subset='Scheme_Code',inplace=True) # Only 1 row per scheme\n",
    "df_processed = df_processed.reset_index()\n",
    "df_processed.drop(columns=['index'],inplace=True)\n",
    "df_processed.index.name = \"S.No\" # Renaming Index Name"
   ]
  },
  {
   "cell_type": "code",
   "execution_count": 29,
   "metadata": {},
   "outputs": [
    {
     "name": "stdout",
     "output_type": "stream",
     "text": [
      "                             Fund_House          Scheme_Type  \\\n",
      "S.No                                                           \n",
      "0     Aditya Birla Sun Life Mutual Fund   Open Ended Schemes   \n",
      "1     Aditya Birla Sun Life Mutual Fund   Open Ended Schemes   \n",
      "2     Aditya Birla Sun Life Mutual Fund   Open Ended Schemes   \n",
      "3     Aditya Birla Sun Life Mutual Fund   Open Ended Schemes   \n",
      "5     Aditya Birla Sun Life Mutual Fund  360 ONE Mutual Fund   \n",
      "...                                 ...                  ...   \n",
      "6198  Aditya Birla Sun Life Mutual Fund   Open Ended Schemes   \n",
      "6199            Mirae Asset Mutual Fund   Open Ended Schemes   \n",
      "6200            Mirae Asset Mutual Fund   Open Ended Schemes   \n",
      "6201            Mirae Asset Mutual Fund   Open Ended Schemes   \n",
      "6202            Mirae Asset Mutual Fund   Open Ended Schemes   \n",
      "\n",
      "                                 Scheme_Category  Scheme_Code  \\\n",
      "S.No                                                            \n",
      "0           Equity Scheme - Large & Mid Cap Fund       100033   \n",
      "1           Equity Scheme - Large & Mid Cap Fund       100034   \n",
      "2     Debt Scheme - Medium to Long Duration Fund       100037   \n",
      "3     Debt Scheme - Medium to Long Duration Fund       100038   \n",
      "5             Formerly Known as IIFL Mutual Fund       100042   \n",
      "...                                          ...          ...   \n",
      "6198                  Other Scheme - Index Funds       150357   \n",
      "6199                  Other Scheme - Index Funds       150358   \n",
      "6200                  Other Scheme - Index Funds       150359   \n",
      "6201                  Other Scheme - Index Funds       150360   \n",
      "6202                  Other Scheme - Index Funds       150361   \n",
      "\n",
      "                                            Scheme_Name  std_dev  \\\n",
      "S.No                                                               \n",
      "0     Aditya Birla Sun Life Equity Advantage Fund - ...    1.214   \n",
      "1     Aditya Birla Sun Life Equity Advantage Fund -R...    1.276   \n",
      "2     Aditya Birla Sun Life Income Fund - Regular - ...    0.271   \n",
      "3     Aditya Birla Sun Life Income Fund - Growth - R...    0.201   \n",
      "5     Aditya Birla Sun Life Liquid Fund-Retail (Growth)    0.012   \n",
      "...                                                 ...      ...   \n",
      "6198  Aditya Birla Sun Life Crisil IBX 60:40 SDL+AAA...    0.094   \n",
      "6199  Mirae Asset Nifty SDL Jun 2027 Index Fund -Dir...    0.155   \n",
      "6200  Mirae Asset Nifty SDL Jun 2027 Index Fund - Di...    0.155   \n",
      "6201  Mirae Asset Nifty SDL Jun 2027 Index Fund - Re...    0.155   \n",
      "6202  Mirae Asset Nifty SDL Jun 2027 Index Fund - Re...    0.155   \n",
      "\n",
      "      active_years   CAGR  Estimated_Beta  alpha  Sortino_Ratio  Sharpe_annual  \n",
      "S.No                                                                            \n",
      "0              5.0  9.565             5.0  -10.0       0.278585       0.579969  \n",
      "1              5.0  2.910             5.0  -10.0      -0.049398       0.245001  \n",
      "2              5.0  1.606             5.0  -10.0      -0.987652       0.393075  \n",
      "3              5.0  7.553             5.0  -10.0       0.509744       2.367324  \n",
      "5              5.0  5.257             5.0  -10.0     -10.685516      21.709117  \n",
      "...            ...    ...             ...    ...            ...            ...  \n",
      "6198           1.0  4.213             5.0  -10.0      -1.160211       2.827907  \n",
      "6199           1.0  4.507             5.0  -10.0      -0.575525       1.834399  \n",
      "6200           1.0  4.508             5.0  -10.0      -0.574923       1.835012  \n",
      "6201           1.0  4.318             5.0  -10.0      -0.651242       1.758848  \n",
      "6202           1.0  4.323             5.0  -10.0      -0.649505       1.760876  \n",
      "\n",
      "[5488 rows x 12 columns]\n"
     ]
    }
   ],
   "source": [
    "# Dropping Nan values if in any 3 columns\n",
    "df_processed.dropna(subset='alpha',inplace=True) \n",
    "df_processed.dropna(subset='Estimated_Beta',inplace=True)\n",
    "df_processed.dropna(subset='CAGR',inplace=True)\n",
    "print(df_processed) # printing to check the new dataframe"
   ]
  },
  {
   "cell_type": "code",
   "execution_count": 31,
   "metadata": {},
   "outputs": [],
   "source": [
    "# Getting a filtered DataFrame with good performing funds\n",
    "df_filtered = df_processed[\n",
    "    (df_processed['Estimated_Beta'].between(-3, 3)) &   # Remove extremely volatile funds\n",
    "    (df_processed['Sharpe_annual'] > 0) &               # Keep funds with positive Sharpe\n",
    "    (df_processed['Sortino_Ratio'] > 0)                 # Keep funds with decent risk-adjusted returns\n",
    "]"
   ]
  },
  {
   "cell_type": "code",
   "execution_count": 32,
   "metadata": {},
   "outputs": [],
   "source": [
    "# Creating DataFrames according to scheme types for efficiency and analysis\n",
    "df_equity = df_processed[df_processed['Scheme_Category'].str.contains(\"Equity\",case=False,na=False)]\n",
    "df_debt = df_processed[df_processed['Scheme_Category'].str.contains(\"Debt\",case=False,na=False)]\n",
    "df_hybrid = df_processed[df_processed['Scheme_Category'].str.contains(\"Hybrid\",case=False,na=False)]\n",
    "df_other = df_processed[df_processed['Scheme_Category'].str.contains(\"Other\",case=False,na=False)]"
   ]
  },
  {
   "cell_type": "code",
   "execution_count": 33,
   "metadata": {},
   "outputs": [],
   "source": [
    "df_top_200_CAGR = df_filtered.nlargest(200,'CAGR') # Getting top funds from the filtered funds according to CAGR\n",
    "df_top_ratio_mfs = df_filtered.sort_values(['Sharpe_annual', 'Sortino_Ratio'], ascending=[False, False]).head(200)\n",
    "# Df for top sharpe and sortino ratio funds in filtered funds "
   ]
  },
  {
   "cell_type": "code",
   "execution_count": 34,
   "metadata": {},
   "outputs": [
    {
     "name": "stderr",
     "output_type": "stream",
     "text": [
      "1860.64s - pydevd: Sending message related to process being replaced timed-out after 5 seconds\n"
     ]
    },
    {
     "name": "stdout",
     "output_type": "stream",
     "text": [
      "Requirement already satisfied: openpyxl in /Users/AribM/Python_DA/dlt/.conda/lib/python3.11/site-packages (3.1.5)\n",
      "Requirement already satisfied: et-xmlfile in /Users/AribM/Python_DA/dlt/.conda/lib/python3.11/site-packages (from openpyxl) (2.0.0)\n"
     ]
    }
   ],
   "source": [
    "! pip install openpyxl\n",
    "file_path = \"processed_data.xlsx\"\n",
    "\n",
    "# Write all DataFrames to the same file in different sheets\n",
    "with pd.ExcelWriter(file_path, engine='openpyxl') as writer:\n",
    "    df_processed.to_excel(writer, sheet_name=\"Processed_Data\", index=False)\n",
    "    df_equity.to_excel(writer, sheet_name=\"Equity_Schemes\", index=False)\n",
    "    df_debt.to_excel(writer, sheet_name=\"Debt_Schemes\", index=False)\n",
    "    df_hybrid.to_excel(writer, sheet_name=\"Hybrid_Schemes\", index=False)\n",
    "    df_other.to_excel(writer, sheet_name=\"Other_Schemes\", index=False)"
   ]
  },
  {
   "cell_type": "code",
   "execution_count": 36,
   "metadata": {},
   "outputs": [
    {
     "name": "stderr",
     "output_type": "stream",
     "text": [
      "/var/folders/8s/_3bwkhvn5hn6yrtnxm4mtfqw0000gn/T/ipykernel_1571/2229188980.py:2: FutureWarning: A value is trying to be set on a copy of a DataFrame or Series through chained assignment using an inplace method.\n",
      "The behavior will change in pandas 3.0. This inplace method will never work because the intermediate object on which we are setting values always behaves as a copy.\n",
      "\n",
      "For example, when doing 'df[col].method(value, inplace=True)', try using 'df.method({col: value}, inplace=True)' or df[col] = df[col].method(value) instead, to perform the operation inplace on the original object.\n",
      "\n",
      "\n",
      "  df['returns'].fillna(0,inplace=True)\n"
     ]
    }
   ],
   "source": [
    "df.drop(['scheme_min_date','scheme_max_date'],axis=1,inplace=True)\n",
    "df['returns'].fillna(0,inplace=True)\n",
    "df.to_csv(\"detailed_data.csv\",index=False)"
   ]
  },
  {
   "cell_type": "code",
   "execution_count": null,
   "metadata": {},
   "outputs": [],
   "source": []
  }
 ],
 "metadata": {
  "kernelspec": {
   "display_name": "Python 3",
   "language": "python",
   "name": "python3"
  },
  "language_info": {
   "codemirror_mode": {
    "name": "ipython",
    "version": 3
   },
   "file_extension": ".py",
   "mimetype": "text/x-python",
   "name": "python",
   "nbconvert_exporter": "python",
   "pygments_lexer": "ipython3",
   "version": "3.11.10"
  }
 },
 "nbformat": 4,
 "nbformat_minor": 2
}
